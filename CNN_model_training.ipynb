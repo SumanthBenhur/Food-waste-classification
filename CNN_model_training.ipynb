{
  "cells": [
    {
      "cell_type": "code",
      "execution_count": null,
      "metadata": {
        "colab": {
          "base_uri": "https://localhost:8080/"
        },
        "id": "TCGnJMygnijv",
        "outputId": "d4728738-2999-4145-d4f4-8d424145f94e"
      },
      "outputs": [
        {
          "name": "stdout",
          "output_type": "stream",
          "text": [
            "Collecting split-folders\n",
            "  Downloading split_folders-0.5.1-py3-none-any.whl (8.4 kB)\n",
            "Installing collected packages: split-folders\n",
            "Successfully installed split-folders-0.5.1\n"
          ]
        }
      ],
      "source": [
        "!pip install split-folders"
      ]
    },
    {
      "cell_type": "code",
      "execution_count": null,
      "metadata": {
        "id": "brOHpxGcyTqU"
      },
      "outputs": [],
      "source": [
        "import pandas as pd\n",
        "import numpy as np\n",
        "import keras\n",
        "import glob\n",
        "import matplotlib.pyplot as plt\n",
        "import scipy\n",
        "import seaborn as sns\n",
        "from mlxtend.preprocessing import minmax_scaling\n",
        "from sklearn.metrics import roc_curve, auc\n",
        "\n",
        "from keras.utils.np_utils import to_categorical\n",
        "from keras.models import Sequential, Model\n",
        "from keras.layers import Dense, Dropout, Flatten, Conv2D, MaxPool2D, GlobalAveragePooling2D, Input, BatchNormalization, Multiply, Activation\n",
        "\n",
        "from keras.regularizers import l2\n",
        "from keras.preprocessing.image import ImageDataGenerator\n",
        "\n",
        "from keras.callbacks import ReduceLROnPlateau, ModelCheckpoint, EarlyStopping\n",
        "from sklearn.metrics import accuracy_score\n",
        "from sklearn.metrics import confusion_matrix\n",
        "from keras import backend as K\n",
        "# import splitfolders\n",
        "\n",
        "import numpy as np\n",
        "import pandas as pd\n",
        "import os\n",
        "import cv2\n",
        "import matplotlib.pyplot as plt\n",
        "import os"
      ]
    },
    {
      "cell_type": "code",
      "execution_count": null,
      "metadata": {
        "id": "QitDHHsPyo0X"
      },
      "outputs": [],
      "source": [
        "# !pip install mlxtend\n",
        "# !pip install utils"
      ]
    },
    {
      "cell_type": "markdown",
      "metadata": {
        "id": "uzGADny2Wb6G"
      },
      "source": [
        "# Starting"
      ]
    },
    {
      "cell_type": "code",
      "execution_count": null,
      "metadata": {
        "colab": {
          "base_uri": "https://localhost:8080/"
        },
        "id": "fKMY0uHRXUWa",
        "outputId": "112d4fa3-8313-436a-9df0-8d4ef90334e7"
      },
      "outputs": [
        {
          "output_type": "stream",
          "name": "stdout",
          "text": [
            "Mounted at /content/drive\n"
          ]
        }
      ],
      "source": [
        "from google.colab import drive\n",
        "drive.mount('/content/drive')"
      ]
    },
    {
      "cell_type": "code",
      "execution_count": null,
      "metadata": {
        "colab": {
          "base_uri": "https://localhost:8080/"
        },
        "id": "9aCl6iagUcdm",
        "outputId": "cd283b0e-f7bf-4b40-f15b-8ecb9cff54eb"
      },
      "outputs": [
        {
          "name": "stderr",
          "output_type": "stream",
          "text": [
            "Copying files: 21874 files [19:17, 18.90 files/s]\n"
          ]
        }
      ],
      "source": [
        "# splitfolders.ratio('/content/drive/MyDrive/capstone/resized_data', output=\"/content/drive/MyDrive/capstone\", seed=1337, ratio=(.6, 0.2,0.2)) "
      ]
    },
    {
      "cell_type": "code",
      "execution_count": null,
      "metadata": {
        "id": "S3omSOeIWb6J"
      },
      "outputs": [],
      "source": [
        "train_path=\"/content/drive/MyDrive/train\"\n",
        "#test_path=\"/content/drive/MyDrive/test\"\n",
        "val_path=\"/content/drive/MyDrive/val\""
      ]
    },
    {
      "cell_type": "code",
      "execution_count": null,
      "metadata": {
        "id": "vYIl19PEUbFK"
      },
      "outputs": [],
      "source": [
        "food = ['bananas','bread','peas','rice','tomatoes']\n",
        "x_train=[]\n",
        "\n",
        "for folder in food:\n",
        "\n",
        "    sub_path=train_path+\"/\"+folder\n",
        "\n",
        "    for img in os.listdir(sub_path):\n",
        "\n",
        "        image_path=sub_path+\"/\"+img\n",
        "\n",
        "        img_arr=cv2.imread(image_path)        \n",
        "\n",
        "        x_train.append(img_arr)\n",
        "\n",
        "\n",
        "''' x_test=[]\n",
        "\n",
        "for folder in os.listdir(test_path):\n",
        "\n",
        "    sub_path=test_path+\"/\"+folder\n",
        "\n",
        "    for img in os.listdir(sub_path):\n",
        "\n",
        "        image_path=sub_path+\"/\"+img\n",
        "\n",
        "        img_arr=cv2.imread(image_path)        \n",
        "\n",
        "        x_test.append(img_arr) '''\n",
        "\n",
        "\n",
        "x_val=[]\n",
        "\n",
        "for folder in food:\n",
        "\n",
        "    sub_path=val_path+\"/\"+folder\n",
        "\n",
        "    for img in os.listdir(sub_path):\n",
        "\n",
        "        image_path=sub_path+\"/\"+img\n",
        "\n",
        "        img_arr=cv2.imread(image_path)       \n",
        "\n",
        "        x_val.append(img_arr)"
      ]
    },
    {
      "cell_type": "code",
      "execution_count": null,
      "metadata": {
        "id": "HXonYePqe4VD"
      },
      "outputs": [],
      "source": [
        "train_x=np.array(x_train)\n",
        "#test_x=np.array(x_test)\n",
        "val_x=np.array(x_val)"
      ]
    },
    {
      "cell_type": "code",
      "execution_count": null,
      "metadata": {
        "id": "DgrxcG03Wb6M"
      },
      "outputs": [],
      "source": [
        "train_x=train_x/255.0\n",
        "#test_x=test_x/255.0\n",
        "val_x=val_x/255.0"
      ]
    },
    {
      "cell_type": "code",
      "execution_count": null,
      "metadata": {
        "id": "YxLcDBqmWb6M"
      },
      "outputs": [],
      "source": [
        "train_datagen = ImageDataGenerator(rescale = 1./255)\n",
        "#test_datagen = ImageDataGenerator(rescale = 1./255)\n",
        "val_datagen = ImageDataGenerator(rescale = 1./255)"
      ]
    },
    {
      "cell_type": "code",
      "execution_count": null,
      "metadata": {
        "colab": {
          "base_uri": "https://localhost:8080/"
        },
        "id": "rCtr12xGWb6M",
        "outputId": "793ff0f7-5f8f-425c-ea88-506609083698"
      },
      "outputs": [
        {
          "output_type": "stream",
          "name": "stdout",
          "text": [
            "Found 13121 images belonging to 5 classes.\n",
            "Found 4372 images belonging to 5 classes.\n"
          ]
        }
      ],
      "source": [
        "\n",
        "training_set = train_datagen.flow_from_directory(train_path,\n",
        "                                                 target_size = (128, 128),\n",
        "                                                 batch_size = 32,\n",
        "                                                 class_mode = 'sparse')\n",
        "\n",
        "'''test_set = test_datagen.flow_from_directory(test_path,\n",
        "                                            target_size = (128, 128),\n",
        "                                            batch_size = 32,\n",
        "                                            class_mode = 'sparse')'''\n",
        "\n",
        "\n",
        "val_set = val_datagen.flow_from_directory(val_path,\n",
        "                                            target_size = (128, 128),\n",
        "                                            batch_size = 32,\n",
        "                                            class_mode = 'sparse')"
      ]
    },
    {
      "cell_type": "code",
      "execution_count": null,
      "metadata": {
        "id": "vybKriOzWb6M"
      },
      "outputs": [],
      "source": [
        "train_y=training_set.classes\n",
        "''' test_y = test_set.classes '''\n",
        "val_y = val_set.classes\n"
      ]
    },
    {
      "cell_type": "code",
      "execution_count": null,
      "metadata": {
        "colab": {
          "base_uri": "https://localhost:8080/"
        },
        "id": "PFestQHhWb6N",
        "outputId": "4948bac7-25a6-4821-d122-4c80887daaf0"
      },
      "outputs": [
        {
          "output_type": "execute_result",
          "data": {
            "text/plain": [
              "(13121,)"
            ]
          },
          "metadata": {},
          "execution_count": 10
        }
      ],
      "source": [
        "train_y.shape"
      ]
    },
    {
      "cell_type": "code",
      "execution_count": null,
      "metadata": {
        "id": "r2Ci9y0lWb6N"
      },
      "outputs": [],
      "source": [
        "model = Sequential()\n",
        "model.add(Conv2D(filters = 32, kernel_size = (5,5), strides = 2, padding = 'Same', activation ='relu', input_shape = (128,128,3), kernel_initializer='he_normal'))\n",
        "model.add(Conv2D(filters = 32, kernel_size = (5,5), strides = 2, padding = 'Same', activation ='relu',kernel_initializer='he_normal'))\n",
        "model.add(MaxPool2D(pool_size=(2,2)))\n",
        "model.add(Dropout(0.4))\n",
        "model.add(Conv2D(filters = 64, kernel_size = (3,3),padding = 'Same', activation ='relu',kernel_initializer='he_normal'))\n",
        "model.add(Conv2D(filters = 64, kernel_size = (3,3),padding = 'Same', activation ='relu',kernel_initializer='he_normal'))\n",
        "model.add(MaxPool2D(pool_size=(2,2)))\n",
        "model.add(Dropout(0.4))\n",
        "model.add(Conv2D(filters = 128, kernel_size = (2,2),padding = 'Same', activation ='relu',kernel_initializer='he_normal'))\n",
        "model.add(Conv2D(filters = 128, kernel_size = (2,2),padding = 'Same', activation ='relu',kernel_initializer='he_normal'))\n",
        "model.add(GlobalAveragePooling2D())\n",
        "model.add(Dense(64, activation = \"relu\",kernel_initializer='he_normal'))\n",
        "model.add(Dropout(0.4))\n",
        "model.add(Dense(512, activation = \"relu\",kernel_initializer='he_normal'))\n",
        "model.add(Dropout(0.4))\n",
        "\n",
        "model.add(Dense(5, activation = \"softmax\",kernel_initializer='he_normal',kernel_regularizer=l2()))\n",
        "\n",
        "#callbacks\n",
        "'''checkpointer = ModelCheckpoint(filepath='model.hdf5', verbose=1, save_best_only=True, save_weights_only=True)\n",
        "earlystopping = EarlyStopping(monitor='val_loss', min_delta=0.01, patience=20, mode='auto') '''\n",
        "\n",
        "\n",
        "model.compile(optimizer = 'Adam' , loss = \"sparse_categorical_crossentropy\", metrics=[\"accuracy\"])"
      ]
    },
    {
      "cell_type": "code",
      "execution_count": null,
      "metadata": {
        "id": "Gyyhg-znWb6N"
      },
      "outputs": [],
      "source": [
        "del model\n"
      ]
    },
    {
      "cell_type": "code",
      "execution_count": null,
      "metadata": {
        "id": "xnfUklxhWb6O"
      },
      "outputs": [],
      "source": [
        ""
      ]
    },
    {
      "cell_type": "code",
      "execution_count": null,
      "metadata": {
        "id": "5yS8k74iWb6O",
        "colab": {
          "base_uri": "https://localhost:8080/"
        },
        "outputId": "c85c7b5e-4135-4fd3-86c3-3a311d47981d"
      },
      "outputs": [
        {
          "output_type": "stream",
          "name": "stdout",
          "text": [
            "Model: \"sequential_1\"\n",
            "_________________________________________________________________\n",
            " Layer (type)                Output Shape              Param #   \n",
            "=================================================================\n",
            " conv2d_6 (Conv2D)           (None, 64, 64, 32)        2432      \n",
            "                                                                 \n",
            " conv2d_7 (Conv2D)           (None, 32, 32, 32)        25632     \n",
            "                                                                 \n",
            " max_pooling2d_2 (MaxPooling  (None, 16, 16, 32)       0         \n",
            " 2D)                                                             \n",
            "                                                                 \n",
            " dropout_4 (Dropout)         (None, 16, 16, 32)        0         \n",
            "                                                                 \n",
            " conv2d_8 (Conv2D)           (None, 16, 16, 64)        18496     \n",
            "                                                                 \n",
            " conv2d_9 (Conv2D)           (None, 16, 16, 64)        36928     \n",
            "                                                                 \n",
            " max_pooling2d_3 (MaxPooling  (None, 8, 8, 64)         0         \n",
            " 2D)                                                             \n",
            "                                                                 \n",
            " dropout_5 (Dropout)         (None, 8, 8, 64)          0         \n",
            "                                                                 \n",
            " conv2d_10 (Conv2D)          (None, 8, 8, 128)         32896     \n",
            "                                                                 \n",
            " conv2d_11 (Conv2D)          (None, 8, 8, 128)         65664     \n",
            "                                                                 \n",
            " global_average_pooling2d_1   (None, 128)              0         \n",
            " (GlobalAveragePooling2D)                                        \n",
            "                                                                 \n",
            " dense_3 (Dense)             (None, 128)               16512     \n",
            "                                                                 \n",
            " dropout_6 (Dropout)         (None, 128)               0         \n",
            "                                                                 \n",
            " dense_4 (Dense)             (None, 512)               66048     \n",
            "                                                                 \n",
            " dropout_7 (Dropout)         (None, 512)               0         \n",
            "                                                                 \n",
            " dense_5 (Dense)             (None, 5)                 2565      \n",
            "                                                                 \n",
            "=================================================================\n",
            "Total params: 267,173\n",
            "Trainable params: 267,173\n",
            "Non-trainable params: 0\n",
            "_________________________________________________________________\n"
          ]
        }
      ],
      "source": [
        "model.summary()"
      ]
    },
    {
      "cell_type": "code",
      "execution_count": null,
      "metadata": {
        "id": "YDDJ8MDDfFz_"
      },
      "outputs": [],
      "source": [
        ""
      ]
    },
    {
      "cell_type": "code",
      "execution_count": null,
      "metadata": {
        "colab": {
          "base_uri": "https://localhost:8080/"
        },
        "id": "gc05LCaSWb6O",
        "outputId": "1efcc466-68cc-4880-8643-cbae81113c41"
      },
      "outputs": [
        {
          "output_type": "execute_result",
          "data": {
            "text/plain": [
              "array([0, 0, 0, ..., 4, 4, 4], dtype=int32)"
            ]
          },
          "metadata": {},
          "execution_count": 49
        }
      ],
      "source": [
        "train_y"
      ]
    },
    {
      "cell_type": "code",
      "execution_count": null,
      "metadata": {
        "id": "3pKJ4CFJWb6O"
      },
      "outputs": [],
      "source": [
        "history = model.fit_generator(training_set,steps_per_epoch=2250/64,\n",
        "                              validation_data=val_set,validation_steps=750/64, \n",
        "                              epochs=30)\n",
        "'''model.fit(train_x, train_y, batch_size=64, epochs=30, validation_data=(val_x,val_y.flatten()))'''\n"
      ]
    },
    {
      "cell_type": "code",
      "execution_count": null,
      "metadata": {
        "id": "AKRkOm7oWb6P"
      },
      "outputs": [],
      "source": [
        "# serialize model to JSON\n",
        "model_json = model.to_json()\n"
      ]
    },
    {
      "cell_type": "code",
      "execution_count": null,
      "metadata": {
        "id": "WXuYqZroWb6P",
        "outputId": "b72e6329-6df9-4310-ed70-d2e97033576d",
        "colab": {
          "base_uri": "https://localhost:8080/"
        }
      },
      "outputs": [
        {
          "output_type": "stream",
          "name": "stdout",
          "text": [
            "Saved model to disk\n"
          ]
        }
      ],
      "source": [
        "with open(\"256_512_model.json\", \"w\") as json_file:\n",
        "    json_file.write(model_json)\n",
        "# serialize weights to HDF5\n",
        "model.save_weights(\"256_256_model.h5\")\n",
        "print(\"Saved model to disk\")"
      ]
    },
    {
      "cell_type": "code",
      "source": [
        "history"
      ],
      "metadata": {
        "colab": {
          "base_uri": "https://localhost:8080/"
        },
        "id": "1cplapIDqFwN",
        "outputId": "46b91845-6aef-4eac-98e9-0e1397759fad"
      },
      "execution_count": null,
      "outputs": [
        {
          "output_type": "execute_result",
          "data": {
            "text/plain": [
              "<keras.callbacks.History at 0x7fb4405377d0>"
            ]
          },
          "metadata": {},
          "execution_count": 59
        }
      ]
    },
    {
      "cell_type": "code",
      "source": [
        "# convert the history.history dict to a pandas DataFrame:     \n",
        "hist_df = pd.DataFrame(history.history) \n",
        "\n",
        "# save to json:  \n",
        "hist_json_file = '256_512_history.json' \n",
        "with open(hist_json_file, mode='w') as f:\n",
        "    hist_df.to_json(f)\n",
        "\n",
        "# or save to csv: \n",
        "hist_csv_file = '256_256_history.csv'\n",
        "with open(hist_csv_file, mode='w') as f:\n",
        "    hist_df.to_csv(f)"
      ],
      "metadata": {
        "id": "13-t2dkV2HCG"
      },
      "execution_count": null,
      "outputs": []
    },
    {
      "cell_type": "code",
      "source": [
        "hist_df"
      ],
      "metadata": {
        "colab": {
          "base_uri": "https://localhost:8080/",
          "height": 989
        },
        "id": "JOg2y6iU2PMV",
        "outputId": "269e1a0b-da36-4145-b26d-063f27b5e84d"
      },
      "execution_count": null,
      "outputs": [
        {
          "output_type": "execute_result",
          "data": {
            "text/plain": [
              "        loss  accuracy  val_loss  val_accuracy\n",
              "0   1.677049  0.275174  1.439848      0.382812\n",
              "1   1.363843  0.427951  1.265693      0.481771\n",
              "2   1.252312  0.515625  1.081932      0.598958\n",
              "3   1.128416  0.543403  1.158349      0.463542\n",
              "4   1.099479  0.547743  1.067525      0.591146\n",
              "5   1.009112  0.584201  1.109130      0.617188\n",
              "6   0.989819  0.630208  0.960704      0.606771\n",
              "7   0.955797  0.614583  0.960372      0.627604\n",
              "8   0.946111  0.636285  1.179101      0.528646\n",
              "9   0.907585  0.666667  1.100601      0.565104\n",
              "10  0.803160  0.723090  0.919805      0.661458\n",
              "11  0.877798  0.678819  0.870473      0.677083\n",
              "12  0.809633  0.704861  0.950567      0.671875\n",
              "13  0.829025  0.695312  1.164251      0.544271\n",
              "14  0.808683  0.697049  0.915490      0.697917\n",
              "15  0.787935  0.719618  0.900099      0.690104\n",
              "16  0.777267  0.731771  0.867219      0.700521\n",
              "17  0.789277  0.729167  0.844907      0.666667\n",
              "18  0.733207  0.753472  0.768113      0.739583\n",
              "19  0.715663  0.746528  1.144275      0.570312\n",
              "20  0.692434  0.744792  1.219014      0.559896\n",
              "21  0.654660  0.766493  0.773967      0.721354\n",
              "22  0.692168  0.776042  0.931333      0.684896\n",
              "23  0.720019  0.736111  0.713470      0.755208\n",
              "24  0.677704  0.763021  0.745763      0.763021\n",
              "25  0.633573  0.790799  0.867081      0.729167\n",
              "26  0.721177  0.756944  1.111747      0.570312\n",
              "27  0.654922  0.782986  0.723282      0.739583\n",
              "28  0.610825  0.789931  0.827476      0.713542\n",
              "29  0.612270  0.787326  0.848085      0.723958"
            ],
            "text/html": [
              "\n",
              "  <div id=\"df-e50b14db-7402-46c7-82c5-b76e935ee53c\">\n",
              "    <div class=\"colab-df-container\">\n",
              "      <div>\n",
              "<style scoped>\n",
              "    .dataframe tbody tr th:only-of-type {\n",
              "        vertical-align: middle;\n",
              "    }\n",
              "\n",
              "    .dataframe tbody tr th {\n",
              "        vertical-align: top;\n",
              "    }\n",
              "\n",
              "    .dataframe thead th {\n",
              "        text-align: right;\n",
              "    }\n",
              "</style>\n",
              "<table border=\"1\" class=\"dataframe\">\n",
              "  <thead>\n",
              "    <tr style=\"text-align: right;\">\n",
              "      <th></th>\n",
              "      <th>loss</th>\n",
              "      <th>accuracy</th>\n",
              "      <th>val_loss</th>\n",
              "      <th>val_accuracy</th>\n",
              "    </tr>\n",
              "  </thead>\n",
              "  <tbody>\n",
              "    <tr>\n",
              "      <th>0</th>\n",
              "      <td>1.677049</td>\n",
              "      <td>0.275174</td>\n",
              "      <td>1.439848</td>\n",
              "      <td>0.382812</td>\n",
              "    </tr>\n",
              "    <tr>\n",
              "      <th>1</th>\n",
              "      <td>1.363843</td>\n",
              "      <td>0.427951</td>\n",
              "      <td>1.265693</td>\n",
              "      <td>0.481771</td>\n",
              "    </tr>\n",
              "    <tr>\n",
              "      <th>2</th>\n",
              "      <td>1.252312</td>\n",
              "      <td>0.515625</td>\n",
              "      <td>1.081932</td>\n",
              "      <td>0.598958</td>\n",
              "    </tr>\n",
              "    <tr>\n",
              "      <th>3</th>\n",
              "      <td>1.128416</td>\n",
              "      <td>0.543403</td>\n",
              "      <td>1.158349</td>\n",
              "      <td>0.463542</td>\n",
              "    </tr>\n",
              "    <tr>\n",
              "      <th>4</th>\n",
              "      <td>1.099479</td>\n",
              "      <td>0.547743</td>\n",
              "      <td>1.067525</td>\n",
              "      <td>0.591146</td>\n",
              "    </tr>\n",
              "    <tr>\n",
              "      <th>5</th>\n",
              "      <td>1.009112</td>\n",
              "      <td>0.584201</td>\n",
              "      <td>1.109130</td>\n",
              "      <td>0.617188</td>\n",
              "    </tr>\n",
              "    <tr>\n",
              "      <th>6</th>\n",
              "      <td>0.989819</td>\n",
              "      <td>0.630208</td>\n",
              "      <td>0.960704</td>\n",
              "      <td>0.606771</td>\n",
              "    </tr>\n",
              "    <tr>\n",
              "      <th>7</th>\n",
              "      <td>0.955797</td>\n",
              "      <td>0.614583</td>\n",
              "      <td>0.960372</td>\n",
              "      <td>0.627604</td>\n",
              "    </tr>\n",
              "    <tr>\n",
              "      <th>8</th>\n",
              "      <td>0.946111</td>\n",
              "      <td>0.636285</td>\n",
              "      <td>1.179101</td>\n",
              "      <td>0.528646</td>\n",
              "    </tr>\n",
              "    <tr>\n",
              "      <th>9</th>\n",
              "      <td>0.907585</td>\n",
              "      <td>0.666667</td>\n",
              "      <td>1.100601</td>\n",
              "      <td>0.565104</td>\n",
              "    </tr>\n",
              "    <tr>\n",
              "      <th>10</th>\n",
              "      <td>0.803160</td>\n",
              "      <td>0.723090</td>\n",
              "      <td>0.919805</td>\n",
              "      <td>0.661458</td>\n",
              "    </tr>\n",
              "    <tr>\n",
              "      <th>11</th>\n",
              "      <td>0.877798</td>\n",
              "      <td>0.678819</td>\n",
              "      <td>0.870473</td>\n",
              "      <td>0.677083</td>\n",
              "    </tr>\n",
              "    <tr>\n",
              "      <th>12</th>\n",
              "      <td>0.809633</td>\n",
              "      <td>0.704861</td>\n",
              "      <td>0.950567</td>\n",
              "      <td>0.671875</td>\n",
              "    </tr>\n",
              "    <tr>\n",
              "      <th>13</th>\n",
              "      <td>0.829025</td>\n",
              "      <td>0.695312</td>\n",
              "      <td>1.164251</td>\n",
              "      <td>0.544271</td>\n",
              "    </tr>\n",
              "    <tr>\n",
              "      <th>14</th>\n",
              "      <td>0.808683</td>\n",
              "      <td>0.697049</td>\n",
              "      <td>0.915490</td>\n",
              "      <td>0.697917</td>\n",
              "    </tr>\n",
              "    <tr>\n",
              "      <th>15</th>\n",
              "      <td>0.787935</td>\n",
              "      <td>0.719618</td>\n",
              "      <td>0.900099</td>\n",
              "      <td>0.690104</td>\n",
              "    </tr>\n",
              "    <tr>\n",
              "      <th>16</th>\n",
              "      <td>0.777267</td>\n",
              "      <td>0.731771</td>\n",
              "      <td>0.867219</td>\n",
              "      <td>0.700521</td>\n",
              "    </tr>\n",
              "    <tr>\n",
              "      <th>17</th>\n",
              "      <td>0.789277</td>\n",
              "      <td>0.729167</td>\n",
              "      <td>0.844907</td>\n",
              "      <td>0.666667</td>\n",
              "    </tr>\n",
              "    <tr>\n",
              "      <th>18</th>\n",
              "      <td>0.733207</td>\n",
              "      <td>0.753472</td>\n",
              "      <td>0.768113</td>\n",
              "      <td>0.739583</td>\n",
              "    </tr>\n",
              "    <tr>\n",
              "      <th>19</th>\n",
              "      <td>0.715663</td>\n",
              "      <td>0.746528</td>\n",
              "      <td>1.144275</td>\n",
              "      <td>0.570312</td>\n",
              "    </tr>\n",
              "    <tr>\n",
              "      <th>20</th>\n",
              "      <td>0.692434</td>\n",
              "      <td>0.744792</td>\n",
              "      <td>1.219014</td>\n",
              "      <td>0.559896</td>\n",
              "    </tr>\n",
              "    <tr>\n",
              "      <th>21</th>\n",
              "      <td>0.654660</td>\n",
              "      <td>0.766493</td>\n",
              "      <td>0.773967</td>\n",
              "      <td>0.721354</td>\n",
              "    </tr>\n",
              "    <tr>\n",
              "      <th>22</th>\n",
              "      <td>0.692168</td>\n",
              "      <td>0.776042</td>\n",
              "      <td>0.931333</td>\n",
              "      <td>0.684896</td>\n",
              "    </tr>\n",
              "    <tr>\n",
              "      <th>23</th>\n",
              "      <td>0.720019</td>\n",
              "      <td>0.736111</td>\n",
              "      <td>0.713470</td>\n",
              "      <td>0.755208</td>\n",
              "    </tr>\n",
              "    <tr>\n",
              "      <th>24</th>\n",
              "      <td>0.677704</td>\n",
              "      <td>0.763021</td>\n",
              "      <td>0.745763</td>\n",
              "      <td>0.763021</td>\n",
              "    </tr>\n",
              "    <tr>\n",
              "      <th>25</th>\n",
              "      <td>0.633573</td>\n",
              "      <td>0.790799</td>\n",
              "      <td>0.867081</td>\n",
              "      <td>0.729167</td>\n",
              "    </tr>\n",
              "    <tr>\n",
              "      <th>26</th>\n",
              "      <td>0.721177</td>\n",
              "      <td>0.756944</td>\n",
              "      <td>1.111747</td>\n",
              "      <td>0.570312</td>\n",
              "    </tr>\n",
              "    <tr>\n",
              "      <th>27</th>\n",
              "      <td>0.654922</td>\n",
              "      <td>0.782986</td>\n",
              "      <td>0.723282</td>\n",
              "      <td>0.739583</td>\n",
              "    </tr>\n",
              "    <tr>\n",
              "      <th>28</th>\n",
              "      <td>0.610825</td>\n",
              "      <td>0.789931</td>\n",
              "      <td>0.827476</td>\n",
              "      <td>0.713542</td>\n",
              "    </tr>\n",
              "    <tr>\n",
              "      <th>29</th>\n",
              "      <td>0.612270</td>\n",
              "      <td>0.787326</td>\n",
              "      <td>0.848085</td>\n",
              "      <td>0.723958</td>\n",
              "    </tr>\n",
              "  </tbody>\n",
              "</table>\n",
              "</div>\n",
              "      <button class=\"colab-df-convert\" onclick=\"convertToInteractive('df-e50b14db-7402-46c7-82c5-b76e935ee53c')\"\n",
              "              title=\"Convert this dataframe to an interactive table.\"\n",
              "              style=\"display:none;\">\n",
              "        \n",
              "  <svg xmlns=\"http://www.w3.org/2000/svg\" height=\"24px\"viewBox=\"0 0 24 24\"\n",
              "       width=\"24px\">\n",
              "    <path d=\"M0 0h24v24H0V0z\" fill=\"none\"/>\n",
              "    <path d=\"M18.56 5.44l.94 2.06.94-2.06 2.06-.94-2.06-.94-.94-2.06-.94 2.06-2.06.94zm-11 1L8.5 8.5l.94-2.06 2.06-.94-2.06-.94L8.5 2.5l-.94 2.06-2.06.94zm10 10l.94 2.06.94-2.06 2.06-.94-2.06-.94-.94-2.06-.94 2.06-2.06.94z\"/><path d=\"M17.41 7.96l-1.37-1.37c-.4-.4-.92-.59-1.43-.59-.52 0-1.04.2-1.43.59L10.3 9.45l-7.72 7.72c-.78.78-.78 2.05 0 2.83L4 21.41c.39.39.9.59 1.41.59.51 0 1.02-.2 1.41-.59l7.78-7.78 2.81-2.81c.8-.78.8-2.07 0-2.86zM5.41 20L4 18.59l7.72-7.72 1.47 1.35L5.41 20z\"/>\n",
              "  </svg>\n",
              "      </button>\n",
              "      \n",
              "  <style>\n",
              "    .colab-df-container {\n",
              "      display:flex;\n",
              "      flex-wrap:wrap;\n",
              "      gap: 12px;\n",
              "    }\n",
              "\n",
              "    .colab-df-convert {\n",
              "      background-color: #E8F0FE;\n",
              "      border: none;\n",
              "      border-radius: 50%;\n",
              "      cursor: pointer;\n",
              "      display: none;\n",
              "      fill: #1967D2;\n",
              "      height: 32px;\n",
              "      padding: 0 0 0 0;\n",
              "      width: 32px;\n",
              "    }\n",
              "\n",
              "    .colab-df-convert:hover {\n",
              "      background-color: #E2EBFA;\n",
              "      box-shadow: 0px 1px 2px rgba(60, 64, 67, 0.3), 0px 1px 3px 1px rgba(60, 64, 67, 0.15);\n",
              "      fill: #174EA6;\n",
              "    }\n",
              "\n",
              "    [theme=dark] .colab-df-convert {\n",
              "      background-color: #3B4455;\n",
              "      fill: #D2E3FC;\n",
              "    }\n",
              "\n",
              "    [theme=dark] .colab-df-convert:hover {\n",
              "      background-color: #434B5C;\n",
              "      box-shadow: 0px 1px 3px 1px rgba(0, 0, 0, 0.15);\n",
              "      filter: drop-shadow(0px 1px 2px rgba(0, 0, 0, 0.3));\n",
              "      fill: #FFFFFF;\n",
              "    }\n",
              "  </style>\n",
              "\n",
              "      <script>\n",
              "        const buttonEl =\n",
              "          document.querySelector('#df-e50b14db-7402-46c7-82c5-b76e935ee53c button.colab-df-convert');\n",
              "        buttonEl.style.display =\n",
              "          google.colab.kernel.accessAllowed ? 'block' : 'none';\n",
              "\n",
              "        async function convertToInteractive(key) {\n",
              "          const element = document.querySelector('#df-e50b14db-7402-46c7-82c5-b76e935ee53c');\n",
              "          const dataTable =\n",
              "            await google.colab.kernel.invokeFunction('convertToInteractive',\n",
              "                                                     [key], {});\n",
              "          if (!dataTable) return;\n",
              "\n",
              "          const docLinkHtml = 'Like what you see? Visit the ' +\n",
              "            '<a target=\"_blank\" href=https://colab.research.google.com/notebooks/data_table.ipynb>data table notebook</a>'\n",
              "            + ' to learn more about interactive tables.';\n",
              "          element.innerHTML = '';\n",
              "          dataTable['output_type'] = 'display_data';\n",
              "          await google.colab.output.renderOutput(dataTable, element);\n",
              "          const docLink = document.createElement('div');\n",
              "          docLink.innerHTML = docLinkHtml;\n",
              "          element.appendChild(docLink);\n",
              "        }\n",
              "      </script>\n",
              "    </div>\n",
              "  </div>\n",
              "  "
            ]
          },
          "metadata": {},
          "execution_count": 54
        }
      ]
    },
    {
      "cell_type": "markdown",
      "metadata": {
        "id": "SJOxliK2Wb6P"
      },
      "source": [
        "### Loading a saved model"
      ]
    },
    {
      "cell_type": "code",
      "execution_count": null,
      "metadata": {
        "id": "QQ93xw7qWb6P",
        "colab": {
          "base_uri": "https://localhost:8080/",
          "height": 70
        },
        "outputId": "f0dd8565-a93e-4769-8b55-35d13db78b6c"
      },
      "outputs": [
        {
          "output_type": "stream",
          "name": "stdout",
          "text": [
            "Loaded model from disk\n"
          ]
        },
        {
          "output_type": "execute_result",
          "data": {
            "text/plain": [
              "'score = loaded_model.evaluate(test_x, test_y, verbose=0)\\nprint(\"%s: %.2f%%\" % (loaded_model.metrics_names[1], score[1]*100))'"
            ],
            "application/vnd.google.colaboratory.intrinsic+json": {
              "type": "string"
            }
          },
          "metadata": {},
          "execution_count": 33
        }
      ],
      "source": [
        "import tensorflow as tf\n",
        "\n",
        "# load json and create model\n",
        "json_file = open('model_v1.json', 'r')\n",
        "loaded_model_json = json_file.read()\n",
        "json_file.close()\n",
        "loaded_model =  tf.keras.models.model_from_json(loaded_model_json)\n",
        "# load weights into new model\n",
        "loaded_model.load_weights(\"model.h5\")\n",
        "print(\"Loaded model from disk\")\n",
        " \n",
        "# evaluate loaded model on test data\n",
        "loaded_model.compile(loss='sparse_categorical_cross_entropy', optimizer='Adam', metrics=['accuracy'])\n"
      ]
    },
    {
      "cell_type": "code",
      "source": [
        "loaded_model.summary()"
      ],
      "metadata": {
        "colab": {
          "base_uri": "https://localhost:8080/"
        },
        "id": "j1lPt4-gwlY0",
        "outputId": "6f11e3ab-36d1-4114-a9ec-d00ce7c4ae9c"
      },
      "execution_count": null,
      "outputs": [
        {
          "output_type": "stream",
          "name": "stdout",
          "text": [
            "Model: \"sequential_2\"\n",
            "_________________________________________________________________\n",
            " Layer (type)                Output Shape              Param #   \n",
            "=================================================================\n",
            " conv2d_12 (Conv2D)          (None, 64, 64, 32)        2432      \n",
            "                                                                 \n",
            " conv2d_13 (Conv2D)          (None, 32, 32, 32)        25632     \n",
            "                                                                 \n",
            " max_pooling2d_4 (MaxPooling  (None, 16, 16, 32)       0         \n",
            " 2D)                                                             \n",
            "                                                                 \n",
            " dropout_6 (Dropout)         (None, 16, 16, 32)        0         \n",
            "                                                                 \n",
            " conv2d_14 (Conv2D)          (None, 16, 16, 64)        18496     \n",
            "                                                                 \n",
            " conv2d_15 (Conv2D)          (None, 16, 16, 64)        36928     \n",
            "                                                                 \n",
            " max_pooling2d_5 (MaxPooling  (None, 8, 8, 64)         0         \n",
            " 2D)                                                             \n",
            "                                                                 \n",
            " dropout_7 (Dropout)         (None, 8, 8, 64)          0         \n",
            "                                                                 \n",
            " conv2d_16 (Conv2D)          (None, 8, 8, 128)         32896     \n",
            "                                                                 \n",
            " conv2d_17 (Conv2D)          (None, 8, 8, 128)         65664     \n",
            "                                                                 \n",
            " global_average_pooling2d_2   (None, 128)              0         \n",
            " (GlobalAveragePooling2D)                                        \n",
            "                                                                 \n",
            " dense_4 (Dense)             (None, 512)               66048     \n",
            "                                                                 \n",
            " dropout_8 (Dropout)         (None, 512)               0         \n",
            "                                                                 \n",
            " dense_5 (Dense)             (None, 5)                 2565      \n",
            "                                                                 \n",
            "=================================================================\n",
            "Total params: 250,661\n",
            "Trainable params: 250,661\n",
            "Non-trainable params: 0\n",
            "_________________________________________________________________\n"
          ]
        }
      ]
    },
    {
      "cell_type": "code",
      "execution_count": null,
      "metadata": {
        "id": "ZioPLjVZWb6Q"
      },
      "outputs": [],
      "source": [
        "test_img = cv2.imread(img_test_path)\n",
        "test_img = cv2.resize(test_img,(128,128))\n",
        "test_img = np.array(test_img)\n",
        "test_img = test_img/255.0\n",
        "\n",
        "test_arr = np.array( [test_img])\n",
        "test_arr.shape"
      ]
    },
    {
      "cell_type": "code",
      "execution_count": null,
      "metadata": {
        "id": "2277-5xVWb6Q"
      },
      "outputs": [],
      "source": [
        "\n",
        "np.argmax(model.predict(test_arr),axis=1)\n"
      ]
    },
    {
      "cell_type": "code",
      "execution_count": null,
      "metadata": {
        "id": "TiOWBkNwWb6R",
        "colab": {
          "base_uri": "https://localhost:8080/"
        },
        "outputId": "166e3fe1-aab9-4c5f-c552-f50a5927e2de"
      },
      "outputs": [
        {
          "output_type": "execute_result",
          "data": {
            "text/plain": [
              "636"
            ]
          },
          "metadata": {},
          "execution_count": 18
        }
      ],
      "source": [
        "import gc \n",
        "del train_x\n",
        "del val_x\n",
        "del train_datagen\n",
        "del val_datagen\n",
        "gc.collect()"
      ]
    },
    {
      "cell_type": "code",
      "source": [
        "test_path=\"/content/drive/MyDrive/test\"\n",
        "\n",
        "x_test=[]\n",
        "\n",
        "for folder in os.listdir(test_path):\n",
        "\n",
        "    sub_path=test_path+\"/\"+folder\n",
        "\n",
        "    for img in os.listdir(sub_path):\n",
        "\n",
        "        image_path=sub_path+\"/\"+img\n",
        "\n",
        "        img_arr=cv2.imread(image_path)\n",
        "\n",
        "        x_test.append(img_arr)\n",
        "\n",
        "  \n",
        "test_x=np.array(x_test)\n",
        "test_x=test_x/255.0\n",
        "test_datagen = ImageDataGenerator(rescale = 1./255)\n",
        "\n",
        "test_set = test_datagen.flow_from_directory(test_path,\n",
        "                                            target_size = (128, 128),\n",
        "                                            batch_size = 32,\n",
        "                                            class_mode = 'sparse')\n",
        "\n",
        "test_y = test_set.classes"
      ],
      "metadata": {
        "colab": {
          "base_uri": "https://localhost:8080/"
        },
        "id": "FQjFyKTyYtIT",
        "outputId": "87a8ea5a-c64f-4ec5-ec21-eeac01560feb"
      },
      "execution_count": null,
      "outputs": [
        {
          "output_type": "stream",
          "name": "stdout",
          "text": [
            "Found 4381 images belonging to 5 classes.\n"
          ]
        }
      ]
    },
    {
      "cell_type": "code",
      "source": [
        "y_pred = np.argmax(loaded_model.predict(test_x), axis = 1)"
      ],
      "metadata": {
        "id": "MZnb0hnBwvh5"
      },
      "execution_count": null,
      "outputs": []
    },
    {
      "cell_type": "code",
      "source": [
        "accuracy_score(test_y, y_pred)\n",
        "confusion_matrix(test_y, y_pred)"
      ],
      "metadata": {
        "colab": {
          "base_uri": "https://localhost:8080/"
        },
        "id": "eUDYuy1axGkF",
        "outputId": "9dac5d7b-4be3-4763-d060-2907ead93893"
      },
      "execution_count": null,
      "outputs": [
        {
          "output_type": "execute_result",
          "data": {
            "text/plain": [
              "array([[ 19, 808,   3,  27,  18],\n",
              "       [  5,  46,  17, 827,  13],\n",
              "       [  2,   2,  11,  14, 821],\n",
              "       [ 17,   1, 826,   9,  33],\n",
              "       [832,   8,   8,  13,   1]])"
            ]
          },
          "metadata": {},
          "execution_count": 39
        }
      ]
    },
    {
      "cell_type": "code",
      "execution_count": null,
      "metadata": {
        "id": "HLt6OVBCWb6Q"
      },
      "outputs": [],
      "source": [
        "\n",
        "score = loaded_model.evaluate(test_x, test_y, verbose=0)\n",
        "print(\"%s: %.2f%%\" % (loaded_model.metrics_names[1], score[1]*100)) \n",
        "\n",
        "\n",
        "\n",
        "\n"
      ]
    },
    {
      "cell_type": "code",
      "source": [
        "#predict\n",
        "y_pred=model.predict(test_x)"
      ],
      "metadata": {
        "id": "C_kj0HnfZxAY"
      },
      "execution_count": null,
      "outputs": []
    },
    {
      "cell_type": "code",
      "source": [
        "model.evaluate(test_x,test_y,batch_size=32)"
      ],
      "metadata": {
        "id": "DLm39fooY55m"
      },
      "execution_count": null,
      "outputs": []
    }
  ],
  "metadata": {
    "colab": {
      "collapsed_sections": [],
      "name": "CNN_model_training.ipynb",
      "provenance": []
    },
    "kernelspec": {
      "display_name": "Python 3",
      "name": "python3"
    },
    "language_info": {
      "codemirror_mode": {
        "name": "ipython",
        "version": 3
      },
      "file_extension": ".py",
      "mimetype": "text/x-python",
      "name": "python",
      "nbconvert_exporter": "python",
      "pygments_lexer": "ipython3",
      "version": "3.10.2"
    },
    "accelerator": "GPU"
  },
  "nbformat": 4,
  "nbformat_minor": 0
}