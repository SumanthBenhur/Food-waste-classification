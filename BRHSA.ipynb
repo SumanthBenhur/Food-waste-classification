{
  "cells": [
    {
      "cell_type": "code",
      "execution_count": null,
      "metadata": {
        "id": "DLPms-_OuBwE"
      },
      "outputs": [],
      "source": [
        "import pandas as pd\n",
        "import math\n",
        "import random\n",
        "import numpy as np\n",
        "import plotly\n",
        "import plotly.graph_objs as go\n",
        "import matplotlib.pyplot as plt\n",
        "import time\n",
        "from tqdm import tqdm"
      ]
    },
    {
      "cell_type": "code",
      "execution_count": null,
      "metadata": {
        "id": "Vle11-q7uBwH"
      },
      "outputs": [],
      "source": [
        "def HSA(HMCR, NOI): \n",
        "    arr=[]\n",
        "    values = [32,64,128,256,512]\n",
        "    rows,cols=(N,d+1)\n",
        "    HM= [[0 for i in range(cols)]for j in range(rows)]\n",
        "\n",
        "    roulette=[]\n",
        "\n",
        "\n",
        "\n",
        "\n",
        "    def solve():           # calculate function value of all values in HM\n",
        "        for i in range(N):\n",
        "            for j in range(d):\n",
        "                HM[i][2]=equation(HM[i][0],HM[i][1])\n",
        "\n",
        "\n",
        "    def printHM(HM):\n",
        "\n",
        "        for i in range(N):\n",
        "            for j in range(d+1):\n",
        "                print(HM[i][j],end=\" \")\n",
        "            print()\n",
        "        \n",
        "\n",
        "    def generate(HMCR,d,N):\n",
        "    \n",
        "        for i in range(N):\n",
        "            for j in range(d):\n",
        "                n=random.randint(0,4)\n",
        "                value = values[n]\n",
        "                HM[i][j]=value\n",
        "\n",
        "    def calculate_fitness_proportion():\n",
        "        roulette.clear()\n",
        "        total_sum=0\n",
        "        for i in range(N):\n",
        "            total_sum=total_sum+HM2[i][d]\n",
        "        # print(\"total sum is\",total_sum)\n",
        "\n",
        "        for i in range(N):\n",
        "            roulette.append(HM2[i][d]/total_sum)\n",
        "\n",
        "        # print(\"original probabilities\",roulette)\n",
        "\n",
        "        for i in range(1,N):\n",
        "            roulette[i]=roulette[i-1]+roulette[i]\n",
        "\n",
        "        # print(\"cumilative probabilities\",roulette)\n",
        "\n",
        "        for i in range(N):\n",
        "            roulette[i]=(1-roulette[i])/(N-1)\n",
        "\n",
        "        #print(\"roulette probabilites: \", roulette)\n",
        "\n",
        "    def calculateNew():\n",
        "        n=random.randint(0,4)\n",
        "        arr.append(values[n])\n",
        "\n",
        "\n",
        "        \n",
        "\n",
        "    def getRandom():\n",
        "        return random.random()\n",
        "\n",
        "    def checkPosition(arr):\n",
        "        for i in range(len(HM2)):\n",
        "            if(HM2[i][d]<arr[d]):\n",
        "                return i\n",
        "        return -1    \n",
        "        \n",
        "\n",
        "    def insert(arr,index):\n",
        "        if(index==-1):\n",
        "            pass\n",
        "        else:\n",
        "            j = N-1\n",
        "            while(j!=index):\n",
        "                temp=HM2[j]\n",
        "                HM2[j] = HM2[j-1]\n",
        "                HM2[j-1]=temp\n",
        "                j-=1\n",
        "            \n",
        "            HM2[index][0]=arr[0]\n",
        "            HM2[index][1]=arr[1]\n",
        "            HM2[index][2]=arr[2]\n",
        "        \n",
        "            \n",
        "            \n",
        "    \n",
        "\n",
        "    def checkHMCR(HMCR):\n",
        "        for i in range(d):\n",
        "            r = getRandom()\n",
        "            if(r>float(HMCR)):\n",
        "                #print(\"\\n new calculated\")\n",
        "                calculateNew()\n",
        "                \n",
        "            else:\n",
        "                \n",
        "                \n",
        "                r=random.random()\n",
        "                for z in range(N):\n",
        "                    if(r>roulette[z]):\n",
        "                        break\n",
        "                arr.append(HM[z][i])\n",
        "        \n",
        "        fvalue=equation(arr[0],arr[1])\n",
        "        arr.append(fvalue)\n",
        "        #print(\"x1 ,x2 and func valeue picked up are\",arr)\n",
        "        fvalues.append(fvalue)\n",
        "        index=checkPosition(arr)\n",
        "        insert(arr,index)\n",
        "        \n",
        "        df=pd.DataFrame(HM2,columns=['x1','x2','Function Value'])\n",
        "        function_value.append(df['Function Value'])\n",
        "\n",
        "    generate(HMCR,d,N) #HM\n",
        "    solve()\n",
        "    \n",
        "\n",
        "    HM2=sorted(HM, key=lambda HM: HM[d],reverse=True)  \n",
        "\n",
        "\n",
        "    for i in range(int(NOI)):\n",
        "        # print(\"The HM is\\n\")\n",
        "        # printHM(HM2)\n",
        "        \n",
        "        calculate_fitness_proportion()\n",
        "        arr.clear()\n",
        "        checkHMCR(HMCR)\n",
        "        #print(len(set(fvalues)))\n",
        "    unique_lookups.append(len(set(fvalues)))\n",
        "    fvalues.clear()\n",
        "    minima_per_itr.append(HM2[0])\n",
        "\n",
        "    "
      ]
    },
    {
      "cell_type": "code",
      "execution_count": null,
      "metadata": {
        "id": "Owi_moNkuBwI",
        "outputId": "676286c2-5e4e-41f8-829a-a9fd226123fd"
      },
      "outputs": [
        {
          "name": "stderr",
          "output_type": "stream",
          "text": [
            "100%|██████████| 30/30 [00:00<00:00, 76.52it/s]\n"
          ]
        }
      ],
      "source": [
        "unique_lookups = []\n",
        "fvalues = []\n",
        "minima_per_itr = []\n",
        "time_per_trial = []\n",
        "for i in tqdm(range(30)):\n",
        "    \n",
        "    start_time = time.time()\n",
        "    function_value =[]\n",
        "    d = 2\n",
        "    # N : size of HM\n",
        "    N=10\n",
        "    \n",
        "    HMCR = 0.6\n",
        "   \n",
        "    NOI = 25\n",
        "    #for 5 variables\n",
        "    def equation(x1,x2):\n",
        "        CNN_VALUES = [[32,32,54.95],\n",
        "                      [32,64,43.49],\n",
        "                      [32,128,63.28],\n",
        "                      [32,256,54.69],\n",
        "                      [32,512,58.85],\n",
        "                      [64,32,88.54],\n",
        "                      [64,64,79.17],\n",
        "                      [64,128,86.20],\n",
        "                      [64,256,87.24],\n",
        "                      [64,512,90.62],\n",
        "                      [128,32,56.51],\n",
        "                      [128,64,74.74],\n",
        "                      [128,128,70.83],\n",
        "                      [128,256,69.79],\n",
        "                      [128,512,60.68],\n",
        "                      [256,32,59.64],\n",
        "                      [256,64,70.05],\n",
        "                      [256,128,58.07],\n",
        "                      [256,256,62.50],\n",
        "                      [256,512,72.40],\n",
        "                      [512,32,86.46],\n",
        "                      [512,64,79.84],\n",
        "                      [512,128,78.32],\n",
        "                      [512,256,85.94],\n",
        "                      [512,512,84.38]]\n",
        "        for row in CNN_VALUES:\n",
        "            if(row[0]==x1 and row[1]==x2):\n",
        "                return row[2]\n",
        "    HSA(HMCR,NOI)\n",
        "    time_per_trial.append(time.time() - start_time)"
      ]
    },
    {
      "cell_type": "code",
      "execution_count": null,
      "metadata": {
        "id": "1SErEqw6uBwJ",
        "outputId": "6714eb22-645c-4712-cbcb-20cbe5c661b4"
      },
      "outputs": [
        {
          "name": "stdout",
          "output_type": "stream",
          "text": [
            "10.4\n",
            "[[64, 32, 88.54], [64, 32, 88.54], [64, 512, 90.62], [64, 256, 87.24], [64, 32, 88.54], [64, 32, 88.54], [64, 512, 90.62], [64, 32, 88.54], [64, 512, 90.62], [64, 512, 90.62], [64, 512, 90.62], [64, 512, 90.62], [64, 512, 90.62], [64, 512, 90.62], [64, 256, 87.24], [64, 512, 90.62], [64, 512, 90.62], [64, 512, 90.62], [64, 512, 90.62], [64, 512, 90.62], [64, 512, 90.62], [64, 32, 88.54], [64, 512, 90.62], [64, 512, 90.62], [64, 256, 87.24], [64, 512, 90.62], [64, 512, 90.62], [64, 512, 90.62], [64, 512, 90.62], [64, 512, 90.62]]\n"
          ]
        }
      ],
      "source": [
        "print(sum(unique_lookups)/len(unique_lookups))\n",
        "print(minima_per_itr)"
      ]
    },
    {
      "cell_type": "code",
      "execution_count": null,
      "metadata": {
        "id": "0ZxnSrXvuBwK"
      },
      "outputs": [],
      "source": [
        ""
      ]
    }
  ],
  "metadata": {
    "interpreter": {
      "hash": "64505b9a0660850d354e5938efc0915b3e0b4322b3f9e243b7579b68d31ec68a"
    },
    "kernelspec": {
      "display_name": "Python 3.10.2 64-bit",
      "language": "python",
      "name": "python3"
    },
    "language_info": {
      "codemirror_mode": {
        "name": "ipython",
        "version": 3
      },
      "file_extension": ".py",
      "mimetype": "text/x-python",
      "name": "python",
      "nbconvert_exporter": "python",
      "pygments_lexer": "ipython3",
      "version": "3.10.2"
    },
    "orig_nbformat": 4,
    "colab": {
      "name": "BRHSA.ipynb",
      "provenance": []
    }
  },
  "nbformat": 4,
  "nbformat_minor": 0
}